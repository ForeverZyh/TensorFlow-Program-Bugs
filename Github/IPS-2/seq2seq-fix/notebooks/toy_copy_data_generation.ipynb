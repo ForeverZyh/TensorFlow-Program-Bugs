{
 "cells": [
  {
   "cell_type": "code",
   "execution_count": 42,
   "metadata": {
    "collapsed": false
   },
   "outputs": [
    {
     "name": "stdout",
     "output_type": "stream",
     "text": [
      "Wrote /tmp/toydata/train/sources.txt\n",
      "Wrote /tmp/toydata/train/targets.txt\n",
      "Wrote /tmp/toydata/dev/sources.txt\n",
      "Wrote /tmp/toydata/dev/targets.txt\n",
      "Wrote /tmp/toydata/test/sources.txt\n",
      "Wrote /tmp/toydata/test/targets.txt\n"
     ]
    }
   ],
   "source": [
    "%%bash\n",
    "\n",
    "rm -rf /tmp/toydata\n",
    "\n",
    "# Generate training data\n",
    "../seq2seq/scripts/generate_toy_data.py  \\\n",
    "  --type copy \\\n",
    "  --num_examples 10000 \\\n",
    "  --vocab_size 20 \\\n",
    "  --max_len 20 \\\n",
    "  --output_dir /tmp/toydata/train\n",
    "  \n",
    "# Generate dev data\n",
    "../seq2seq/scripts/generate_toy_data.py  \\\n",
    "  --type copy \\\n",
    "  --num_examples 1000 \\\n",
    "  --vocab_size 20 \\\n",
    "  --max_len 20 \\\n",
    "  --output_dir /tmp/toydata/dev\n",
    "  \n",
    "# Generate test data\n",
    "../seq2seq/scripts/generate_toy_data.py  \\\n",
    "  --type copy \\\n",
    "  --num_examples 1000 \\\n",
    "  --vocab_size 20 \\\n",
    "  --max_len 20 \\\n",
    "  --output_dir /tmp/toydata/test  "
   ]
  },
  {
   "cell_type": "code",
   "execution_count": 43,
   "metadata": {
    "collapsed": false
   },
   "outputs": [
    {
     "name": "stdout",
     "output_type": "stream",
     "text": [
      "Creating TFRecords file at /tmp/toydata/train/train.tfrecords...\n",
      "Processed 1 records\n",
      "Processed 10000 records. Done.\n",
      "Wrote to /tmp/toydata/train/train.tfrecords\n",
      "Creating TFRecords file at /tmp/toydata/dev/dev.tfrecords...\n",
      "Processed 1 records\n",
      "Processed 1000 records. Done.\n",
      "Wrote to /tmp/toydata/dev/dev.tfrecords\n",
      "Creating TFRecords file at /tmp/toydata/test/test.tfrecords...\n",
      "Processed 1 records\n",
      "Processed 1000 records. Done.\n",
      "Wrote to /tmp/toydata/test/test.tfrecords\n"
     ]
    }
   ],
   "source": [
    "%%bash\n",
    "\n",
    "# Convert Training Data to TFRecords\n",
    "../seq2seq/scripts/generate_examples.py \\\n",
    "  --source_file /tmp/toydata/train/sources.txt \\\n",
    "  --target_file /tmp/toydata/train/targets.txt \\\n",
    "  --output_file /tmp/toydata/train/train.tfrecords\n",
    "  \n",
    "# Convert Dev Data to TFRecords\n",
    "../seq2seq/scripts/generate_examples.py \\\n",
    "  --source_file /tmp/toydata/dev/sources.txt \\\n",
    "  --target_file /tmp/toydata/dev/targets.txt \\\n",
    "  --output_file /tmp/toydata/dev/dev.tfrecords\n",
    "  \n",
    "# Convert Test Data to TFRecords\n",
    "../seq2seq/scripts/generate_examples.py \\\n",
    "  --source_file /tmp/toydata/test/sources.txt \\\n",
    "  --target_file /tmp/toydata/test/targets.txt \\\n",
    "  --output_file /tmp/toydata/test/test.tfrecords  "
   ]
  },
  {
   "cell_type": "code",
   "execution_count": 44,
   "metadata": {
    "collapsed": false
   },
   "outputs": [
    {
     "name": "stdout",
     "output_type": "stream",
     "text": [
      "Found 20 unique words in the vocabulary.\n",
      "Found 20 unique words with frequency > 0.\n",
      "Wrote vocab of size 20: /tmp/toydata/train/vocab.txt\n"
     ]
    }
   ],
   "source": [
    "%%bash\n",
    "\n",
    "# Create Vocabulary\n",
    "../seq2seq/scripts/generate_vocab.py \\\n",
    "  --input_file /tmp/toydata/train/sources.txt \\\n",
    "  --output_file /tmp/toydata/train/vocab.txt"
   ]
  },
  {
   "cell_type": "code",
   "execution_count": 46,
   "metadata": {
    "collapsed": false
   },
   "outputs": [
    {
     "name": "stderr",
     "output_type": "stream",
     "text": [
      "a train.tfrecords\n",
      "a dev.tfrecords\n",
      "a test.tfrecords\n",
      "a vocab.txt\n"
     ]
    }
   ],
   "source": [
    "%%bash\n",
    "\n",
    "tar -cvzf ~/toy_copy.20.tar.gz \\\n",
    "  -C /tmp/toydata/train train.tfrecords \\\n",
    "  -C /tmp/toydata/dev dev.tfrecords \\\n",
    "  -C /tmp/toydata/test test.tfrecords \\\n",
    "  -C /tmp/toydata/train vocab.txt"
   ]
  },
  {
   "cell_type": "code",
   "execution_count": null,
   "metadata": {
    "collapsed": true
   },
   "outputs": [],
   "source": []
  }
 ],
 "metadata": {
  "kernelspec": {
   "display_name": "Python 3",
   "language": "python",
   "name": "python3"
  },
  "language_info": {
   "codemirror_mode": {
    "name": "ipython",
    "version": 3
   },
   "file_extension": ".py",
   "mimetype": "text/x-python",
   "name": "python",
   "nbconvert_exporter": "python",
   "pygments_lexer": "ipython3",
   "version": "3.5.1"
  }
 },
 "nbformat": 4,
 "nbformat_minor": 2
}
