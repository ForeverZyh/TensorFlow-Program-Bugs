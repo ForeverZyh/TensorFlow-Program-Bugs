{
 "cells": [
  {
   "cell_type": "code",
   "execution_count": null,
   "metadata": {
    "collapsed": false
   },
   "outputs": [],
   "source": [
    "%matplotlib inline\n",
    "\n",
    "import numpy as np\n",
    "import tensorflow as tf\n",
    "\n",
    "from seq2seq import graph_utils\n",
    "from seq2seq.inference import create_inference_graph, create_predictions_iter\n",
    "from seq2seq.inference import print_translations\n",
    "from seq2seq.data import data_utils\n",
    "from seq2seq.training import utils as training_utils\n",
    "\n",
    "from matplotlib import pyplot as plt\n",
    "tf.logging.set_verbosity(tf.logging.DEBUG)"
   ]
  },
  {
   "cell_type": "code",
   "execution_count": 8,
   "metadata": {
    "collapsed": false
   },
   "outputs": [],
   "source": [
    "MODEL_CLASS = \"AttentionSeq2Seq\"\n",
    "MODEL_DIR = \"/Users/dennybritz/Downloads/toy\"\n",
    "INPUT_FILE = \"/tmp/toydata/test/sources.txt\"\n",
    "VOCAB_SOURCE = \"/tmp/toydata/train/vocab.txt\"\n",
    "VOCAB_TARGET = \"/tmp/toydata/train/vocab.txt\""
   ]
  },
  {
   "cell_type": "code",
   "execution_count": 9,
   "metadata": {
    "collapsed": false
   },
   "outputs": [
    {
     "name": "stdout",
     "output_type": "stream",
     "text": [
      "INFO:tensorflow:==================================================\n",
      "INFO:tensorflow:attention.dim=128\n",
      "INFO:tensorflow:attention.score_type=bahdanau\n",
      "INFO:tensorflow:embedding.dim=100\n",
      "INFO:tensorflow:encoder.type=BidirectionalRNNEncoder\n",
      "INFO:tensorflow:inference.beam_search.beam_width=0\n",
      "INFO:tensorflow:inference.beam_search.choose_successors_fn=choose_top_k\n",
      "INFO:tensorflow:inference.beam_search.score_fn=logprob_score\n",
      "INFO:tensorflow:optimizer.clip_gradients=5.0\n",
      "INFO:tensorflow:optimizer.learning_rate=0.0001\n",
      "INFO:tensorflow:optimizer.lr_decay_rate=0.99\n",
      "INFO:tensorflow:optimizer.lr_decay_steps=100\n",
      "INFO:tensorflow:optimizer.lr_decay_type=\n",
      "INFO:tensorflow:optimizer.lr_min_learning_rate=1e-12\n",
      "INFO:tensorflow:optimizer.lr_staircase=False\n",
      "INFO:tensorflow:optimizer.lr_start_decay_at=0\n",
      "INFO:tensorflow:optimizer.lr_stop_decay_at=1000000000.0\n",
      "INFO:tensorflow:optimizer.name=Adam\n",
      "INFO:tensorflow:rnn_cell.dropout_input_keep_prob=1.0\n",
      "INFO:tensorflow:rnn_cell.dropout_output_keep_prob=1.0\n",
      "INFO:tensorflow:rnn_cell.num_layers=1\n",
      "INFO:tensorflow:rnn_cell.num_units=128\n",
      "INFO:tensorflow:rnn_cell.type=BasicLSTMCell\n",
      "INFO:tensorflow:source.max_seq_len=40\n",
      "INFO:tensorflow:source.reverse=False\n",
      "INFO:tensorflow:target.max_seq_len=40\n",
      "INFO:tensorflow:==================================================\n",
      "INFO:tensorflow:Creating vocabulary lookup table of size 23\n",
      "INFO:tensorflow:Creating vocabulary lookup table of size 23\n"
     ]
    }
   ],
   "source": [
    "# Create the model graph\n",
    "tf.reset_default_graph()\n",
    "predictions, _, _ = create_inference_graph(\n",
    "    model_class=\"AttentionSeq2Seq\",\n",
    "    model_dir=MODEL_DIR,\n",
    "    input_file=INPUT_FILE,\n",
    "    vocab_source=VOCAB_SOURCE,\n",
    "    vocab_target=VOCAB_TARGET,\n",
    "    batch_size=32)\n",
    "vocab_tables = graph_utils.get_dict_from_collection(\"vocab_tables\")\n",
    "features = graph_utils.get_dict_from_collection(\"features\")"
   ]
  },
  {
   "cell_type": "code",
   "execution_count": 10,
   "metadata": {
    "collapsed": false
   },
   "outputs": [
    {
     "name": "stdout",
     "output_type": "stream",
     "text": [
      "INFO:tensorflow:Restored model from /Users/dennybritz/Downloads/toy/model.ckpt-1318\n"
     ]
    }
   ],
   "source": [
    "# Initialize the session and restore the checkpoint\n",
    "saver = tf.train.Saver()\n",
    "checkpoint_path = tf.train.latest_checkpoint(MODEL_DIR)\n",
    "\n",
    "sess = tf.InteractiveSession()\n",
    "sess.run(tf.global_variables_initializer())\n",
    "sess.run(tf.local_variables_initializer())\n",
    "sess.run(tf.initialize_all_tables())\n",
    "\n",
    "saver.restore(sess, checkpoint_path)\n",
    "tf.logging.info(\"Restored model from %s\", checkpoint_path)"
   ]
  },
  {
   "cell_type": "code",
   "execution_count": 11,
   "metadata": {
    "collapsed": false
   },
   "outputs": [],
   "source": [
    "# Create an iterator of predictions with some extra information\n",
    "predictions[\"source_tokens\"] = features[\"source_tokens\"]\n",
    "predictions[\"source_len\"] = features[\"source_len\"]\n",
    "predictions[\"target_words\"] = vocab_tables[\"target_id_to_vocab\"].lookup(predictions[\"predictions\"])                        \n",
    "predictions_iter = create_predictions_iter(predictions, sess)"
   ]
  },
  {
   "cell_type": "code",
   "execution_count": 12,
   "metadata": {
    "collapsed": false
   },
   "outputs": [],
   "source": [
    "# Get the next predictions\n",
    "pred_ = next(predictions_iter)"
   ]
  },
  {
   "cell_type": "code",
   "execution_count": 27,
   "metadata": {
    "collapsed": false
   },
   "outputs": [
    {
     "data": {
      "image/png": "[encoded data removed]",
      "text/plain": [
       "<matplotlib.figure.Figure at 0x118ac4390>"
      ]
     },
     "metadata": {},
     "output_type": "display_data"
    }
   ],
   "source": [
    "# Find out how long the predicted sequence is\n",
    "target_words = [_.decode() for _ in pred_[\"target_words\"]]\n",
    "if \"SEQUENCE_END\" in target_words:\n",
    "  prediction_len = target_words.index(\"SEQUENCE_END\") + 1\n",
    "else:\n",
    "  prediction_len = None\n",
    "target_words = target_words[:prediction_len]\n",
    "  \n",
    "# Get source words\n",
    "source_len = pred_[\"source_len\"]\n",
    "source_words = [_.decode() for _ in pred_[\"source_tokens\"][:source_len]]\n",
    "  \n",
    "# Plot\n",
    "plt.figure(figsize=(8,8))\n",
    "plt.imshow(pred_[\"attention_scores\"][:prediction_len,:], interpolation='nearest', cmap=plt.cm.Blues)\n",
    "plt.xticks(np.arange(source_len), source_words, rotation=45)\n",
    "plt.yticks(np.arange(prediction_len), target_words, rotation=-45)\n",
    "None"
   ]
  }
 ],
 "metadata": {
  "kernelspec": {
   "display_name": "Python 3",
   "language": "python",
   "name": "python3"
  },
  "language_info": {
   "codemirror_mode": {
    "name": "ipython",
    "version": 3
   },
   "file_extension": ".py",
   "mimetype": "text/x-python",
   "name": "python",
   "nbconvert_exporter": "python",
   "pygments_lexer": "ipython3",
   "version": "3.5.1"
  }
 },
 "nbformat": 4,
 "nbformat_minor": 2
}
